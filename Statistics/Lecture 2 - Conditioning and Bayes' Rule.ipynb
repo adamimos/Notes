{
 "cells": [
  {
   "cell_type": "code",
   "execution_count": 1,
   "metadata": {
    "collapsed": true
   },
   "outputs": [],
   "source": [
    "%matplotlib inline\n",
    "\n",
    "import matplotlib\n",
    "import numpy as np\n",
    "import matplotlib.pyplot as plt"
   ]
  },
  {
   "cell_type": "markdown",
   "metadata": {},
   "source": [
    "# Lecture 2: Conditioning and Bayes' Rule\n",
    "\n",
    "## Conditional Distributions"
   ]
  },
  {
   "cell_type": "code",
   "execution_count": 30,
   "metadata": {
    "collapsed": false
   },
   "outputs": [
    {
     "data": {
      "image/png": "[encoded data removed]",
      "text/plain": [
       "<matplotlib.figure.Figure at 0x7fdf86ab9190>"
      ]
     },
     "metadata": {},
     "output_type": "display_data"
    }
   ],
   "source": [
    "circle1 = plt.Circle((0.4, 0.3), 0.2, color='r',fill=False)\n",
    "circle2 = plt.Circle((0.5, 0.5), 0.2, color='blue',fill=False)\n",
    "fig, ax = plt.subplots()\n",
    "ax.annotate('A', xy=(0.6,0.7), xytext=(0.5,0.6),size=20,color='b')\n",
    "ax.annotate('B', xy=(0.6,0.7), xytext=(0.4,0.2),size=20,color='r')\n",
    "ax.annotate('$\\Omega$', xy=(0.75,0.7), xytext=(0.75,0.7),size=20)\n",
    "ax.add_artist(circle1)\n",
    "ax.add_artist(circle2)\n",
    "ax.get_xaxis().set_visible(False)\n",
    "ax.get_yaxis().set_visible(False)\n",
    "ax.set_xlim([0.1,0.8])\n",
    "ax.set_ylim([0.05,0.8]);"
   ]
  },
  {
   "cell_type": "markdown",
   "metadata": {},
   "source": [
    "$P(A\\mid B)$ = the probability of A, given that B has occured. Essentially, B is our new universe. Assuming $P(B)\\neq0$: $$P(A\\mid B) = \\frac{P(A\\cap B}{P(B)})$$\n",
    "\n",
    "Conditional probabilities can be thought of as the updating of beliefs after we are given some partial information. For instance, if we are told that event B has occured, we update our beliefs about the probablitiy of A occurs.\n",
    "\n",
    "## Bayes' Rule\n",
    "\n",
    "$$P(A\\mid B) = \\frac{P(A \\cap B)}{P(B)} = \\frac{P(B \\mid A)P(A)}{P(B)}$$\n",
    "\n",
    "One way to think of this inversion of the conditional probability is to think of $P(B\\mid A)$ as a causal model from A to B. Then, $P(A\\mid B)$ is the inference model, describing how likely the cause is to have occured, given the effect. "
   ]
  },
  {
   "cell_type": "code",
   "execution_count": null,
   "metadata": {
    "collapsed": true
   },
   "outputs": [],
   "source": []
  }
 ],
 "metadata": {
  "kernelspec": {
   "display_name": "Python 2",
   "language": "python",
   "name": "python2"
  },
  "language_info": {
   "codemirror_mode": {
    "name": "ipython",
    "version": 2
   },
   "file_extension": ".py",
   "mimetype": "text/x-python",
   "name": "python",
   "nbconvert_exporter": "python",
   "pygments_lexer": "ipython2",
   "version": "2.7.11"
  }
 },
 "nbformat": 4,
 "nbformat_minor": 0
}
