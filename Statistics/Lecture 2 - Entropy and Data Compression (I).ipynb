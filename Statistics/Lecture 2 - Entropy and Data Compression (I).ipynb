{
 "cells": [
  {
   "cell_type": "code",
   "execution_count": 1,
   "metadata": {
    "collapsed": true
   },
   "outputs": [],
   "source": [
    "%matplotlib inline\n",
    "\n",
    "import matplotlib\n",
    "import numpy as np\n",
    "import matplotlib.pyplot as plt"
   ]
  },
  {
   "cell_type": "markdown",
   "metadata": {},
   "source": [
    "## Shannon Information Content and Entropy\n",
    "$$h(x=a_i) = -log_2(P(a_i))$$\n",
    "\n",
    "this is measured in bits. $h(x)$ is the compressed file length to which we should aspire."
   ]
  },
  {
   "cell_type": "code",
   "execution_count": 9,
   "metadata": {
    "collapsed": false
   },
   "outputs": [
    {
     "data": {
      "image/png": "[encoded data removed]",
      "text/plain": [
       "<matplotlib.figure.Figure at 0x7fd304572550>"
      ]
     },
     "metadata": {},
     "output_type": "display_data"
    }
   ],
   "source": [
    "x = np.linspace(0.001, 1, 1000)\n",
    "plt.plot(x,-np.log2(x))\n",
    "plt.xlabel('$P(a_i)$')\n",
    "plt.ylabel('$h(a_i)$')\n",
    "plt.show()\n"
   ]
  },
  {
   "cell_type": "markdown",
   "metadata": {},
   "source": [
    "Note:\n",
    "\n",
    "1. $h(x)$ is additive for independent random variables. $P(x,y) = P(x)P(y) \\forall x,y \\implies h(x,y)=-log_2(P(x,y)) = -log_2(P(x)P(y)) = -log_2(P(x))-log_2(P(y))$\n",
    "2. The information content is biggest for improbable events\n",
    "\n",
    "The Entropy of an ensemble is the average infomration content: $$H(X) = \\sum_x -P(x)log_2(x)$$\n",
    "\n",
    "###### Example: Ball Weighing Problem\n",
    "\n",
    "If you have 12 balls, and 1 of them is either lighter or heavier. You have a scale and we want to figure out the optimal strategy. At each move, we'd like to maximize the entropy over the possible outcomes of our weighings. \n",
    "\n",
    "###### Example: Bent Coint Lottery\n",
    "\n",
    "A coin with $p_1=0.1$ will be tossed $N=1000$ times. The outcome is $x=x_1x_2...x_N$. You can buy any of the $2^N$ possible tickets for 1\\$ each. If you win you get 1,000,000,000\\$. Questions:\n",
    "* To have a 99% chance of winning, at the lowest possible cost, which tickets should you buy?\n",
    "* How many tickets is that? Express your answer in the form $2^{(...)}$.\n",
    "\n",
    "The tickets with the highest probability are those with 10% 1s. That is $Np_1$ 1s. Each of those occur with $p=Np_1(1-p_1)$ probability. How many of those are there? There are ${N \\choose {Np_1(1-p_1)}}=\\frac{N!}{(Np_1(1-p_1))(N-(Np_1(1-p_1))!}$ of those. This seems like the wrong way to do this problem."
   ]
  },
  {
   "cell_type": "code",
   "execution_count": null,
   "metadata": {
    "collapsed": true
   },
   "outputs": [],
   "source": []
  }
 ],
 "metadata": {
  "kernelspec": {
   "display_name": "Python 2",
   "language": "python",
   "name": "python2"
  },
  "language_info": {
   "codemirror_mode": {
    "name": "ipython",
    "version": 2
   },
   "file_extension": ".py",
   "mimetype": "text/x-python",
   "name": "python",
   "nbconvert_exporter": "python",
   "pygments_lexer": "ipython2",
   "version": "2.7.11"
  }
 },
 "nbformat": 4,
 "nbformat_minor": 0
}
